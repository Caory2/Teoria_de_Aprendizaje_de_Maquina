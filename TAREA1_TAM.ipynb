{
  "nbformat": 4,
  "nbformat_minor": 0,
  "metadata": {
    "colab": {
      "provenance": [],
      "authorship_tag": "ABX9TyPbGwEF8wXTwsjpkW7osPeb",
      "include_colab_link": true
    },
    "kernelspec": {
      "name": "python3",
      "display_name": "Python 3"
    },
    "language_info": {
      "name": "python"
    }
  },
  "cells": [
    {
      "cell_type": "markdown",
      "metadata": {
        "id": "view-in-github",
        "colab_type": "text"
      },
      "source": [
        "<a href=\"https://colab.research.google.com/github/Caory2/Teoria_de_Aprendizaje_de_Maquina/blob/main/TAREA1_TAM.ipynb\" target=\"_parent\"><img src=\"https://colab.research.google.com/assets/colab-badge.svg\" alt=\"Open In Colab\"/></a>"
      ]
    },
    {
      "cell_type": "code",
      "execution_count": 2,
      "metadata": {
        "colab": {
          "base_uri": "https://localhost:8080/"
        },
        "id": "B_JaMNtlIIlQ",
        "outputId": "f6d06aa7-3f47-484e-c981-3b0f28806e7a"
      },
      "outputs": [
        {
          "output_type": "stream",
          "name": "stdout",
          "text": [
            "Requirement already satisfied: opencv-python in /usr/local/lib/python3.12/dist-packages (4.12.0.88)\n",
            "Requirement already satisfied: numpy<2.3.0,>=2 in /usr/local/lib/python3.12/dist-packages (from opencv-python) (2.0.2)\n"
          ]
        }
      ],
      "source": [
        "!pip install opencv-python\n"
      ]
    },
    {
      "cell_type": "code",
      "source": [
        "import cv2\n",
        "import numpy as np\n",
        "\n",
        "def cargar_imagen(path, size=(100, 100)):\n",
        "    \"\"\"\n",
        "    Carga una imagen, la convierte a gris, la redimensiona y la aplana en un vector.\n",
        "    \"\"\"\n",
        "    img = cv2.imread(path, cv2.IMREAD_GRAYSCALE)  # cargar en escala de grises\n",
        "    img = cv2.resize(img, size)  # normalizar tamaño\n",
        "    vec = img.flatten().astype(np.float32)  # aplanar a vector\n",
        "    # normalización (opcional para cosine similarity)\n",
        "    vec /= np.linalg.norm(vec) + 1e-10\n",
        "    return vec\n",
        "\n",
        "def comparar_rostros(img1_path, img2_path, img_test_path):\n",
        "    # cargar imágenes como vectores\n",
        "    vec1 = cargar_imagen(\"/content/rostrojuan.jpeg\")\n",
        "    vec2 = cargar_imagen(\"/content/rostromontoya.jpeg\")\n",
        "    vec_test = cargar_imagen(\"/content/rostrojuan2.jpeg\")\n",
        "\n",
        "    # Distancia euclídea\n",
        "    dist1 = np.linalg.norm(vec_test - vec1)\n",
        "    dist2 = np.linalg.norm(vec_test - vec2)\n",
        "\n",
        "    # Similitud coseno (producto punto normalizado)\n",
        "    sim1 = np.dot(vec_test, vec1) / (np.linalg.norm(vec_test) * np.linalg.norm(vec1))\n",
        "    sim2 = np.dot(vec_test, vec2) / (np.linalg.norm(vec_test) * np.linalg.norm(vec2))\n",
        "\n",
        "    print(f\"Distancia euclídea con foto1: {dist1:.4f}\")\n",
        "    print(f\"Distancia euclídea con foto2: {dist2:.4f}\")\n",
        "    print(f\"Similitud coseno con foto1: {sim1:.4f}\")\n",
        "    print(f\"Similitud coseno con foto2: {sim2:.4f}\")\n",
        "\n",
        "    # Decisión con distancia\n",
        "    if dist1 < dist2:\n",
        "        print(\"El rostro se parece más a la FOTO 1 (por distancia).\")\n",
        "    else:\n",
        "        print(\"El rostro se parece más a la FOTO 2 (por distancia).\")\n",
        "\n",
        "    # Decisión con similitud\n",
        "    if sim1 > sim2:\n",
        "        print(\"El rostro se parece más a la FOTO 1 (por similitud).\")\n",
        "    else:\n",
        "        print(\"El rostro se parece más a la FOTO 2 (por similitud).\")\n",
        "\n",
        "# Ejemplo de uso\n",
        "comparar_rostros(\"persona1.jpg\", \"persona2.jpg\", \"rostro_prueba.jpg\")\n"
      ],
      "metadata": {
        "colab": {
          "base_uri": "https://localhost:8080/"
        },
        "id": "rpCHBxRiRnEK",
        "outputId": "3d02c2a3-d3b1-4e67-d501-0529d57aaa89"
      },
      "execution_count": 6,
      "outputs": [
        {
          "output_type": "stream",
          "name": "stdout",
          "text": [
            "Distancia euclídea con foto1: 0.5840\n",
            "Distancia euclídea con foto2: 0.5579\n",
            "Similitud coseno con foto1: 0.8295\n",
            "Similitud coseno con foto2: 0.8444\n",
            "El rostro se parece más a la FOTO 2 (por distancia).\n",
            "El rostro se parece más a la FOTO 2 (por similitud).\n"
          ]
        }
      ]
    }
  ]
}